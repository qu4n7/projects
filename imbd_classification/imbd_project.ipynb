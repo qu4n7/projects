{
 "cells": [
  {
   "cell_type": "markdown",
   "metadata": {},
   "source": [
    "## Классификация отзыва положительный / отрицательный по его текстовому содержания"
   ]
  },
  {
   "cell_type": "markdown",
   "metadata": {},
   "source": [
    "dataset: https://www.kaggle.com/iarunava/imdb-movie-reviews-dataset/"
   ]
  },
  {
   "cell_type": "code",
   "execution_count": 2,
   "metadata": {},
   "outputs": [],
   "source": [
    "import numpy as np\n",
    "import pandas as pd\n",
    "import os"
   ]
  },
  {
   "cell_type": "markdown",
   "metadata": {},
   "source": [
    "подготовка датасета"
   ]
  },
  {
   "cell_type": "code",
   "execution_count": 13,
   "metadata": {},
   "outputs": [
    {
     "name": "stdout",
     "output_type": "stream",
     "text": [
      "['aclImdb']\n",
      "12500\n",
      "12500\n",
      "12500\n",
      "12500\n"
     ]
    }
   ],
   "source": [
    "# отправлю датасет в отдельную папку\n",
    "print(os.listdir(\"input\"))\n",
    "# подготовлю train сет с положительными отзывами\n",
    "# пишу путь к файлам\n",
    "pos_files = os.listdir('input/aclimdb/train/pos')\n",
    "pos_files = ['input/aclimdb/train/pos/' + file for file in pos_files]\n",
    "# присваиваю им лейбел 1\n",
    "pos_labels = [1 for i in range(len(pos_files))]\n",
    "# подготовлю train сет с негативными отзывами\n",
    "# пишу путь к файлам\n",
    "neg_files = os.listdir('input/aclimdb/train/neg')\n",
    "neg_files = ['input/aclimdb/train/neg/' + file for file in neg_files]\n",
    "neg_labels = [0 for _ in range(len(neg_files))]\n",
    "# присваиваю им лейбел 0\n",
    "print(len(pos_files))\n",
    "# проверяю размерность\n",
    "print(len(pos_labels))\n",
    "print(len(neg_files))\n",
    "print(len(neg_labels))\n"
   ]
  },
  {
   "cell_type": "code",
   "execution_count": null,
   "metadata": {},
   "outputs": [],
   "source": []
  }
 ],
 "metadata": {
  "kernelspec": {
   "display_name": "Python 3",
   "language": "python",
   "name": "python3"
  },
  "language_info": {
   "codemirror_mode": {
    "name": "ipython",
    "version": 3
   },
   "file_extension": ".py",
   "mimetype": "text/x-python",
   "name": "python",
   "nbconvert_exporter": "python",
   "pygments_lexer": "ipython3",
   "version": "3.7.3"
  }
 },
 "nbformat": 4,
 "nbformat_minor": 2
}
