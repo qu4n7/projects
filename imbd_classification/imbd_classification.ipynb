{
 "cells": [
  {
   "cell_type": "markdown",
   "metadata": {},
   "source": [
    "## Классификация отзыва положительный / отрицательный по его текстовому содержания"
   ]
  },
  {
   "cell_type": "markdown",
   "metadata": {},
   "source": [
    "dataset: https://www.kaggle.com/iarunava/imdb-movie-reviews-dataset/"
   ]
  },
  {
   "cell_type": "markdown",
   "metadata": {},
   "source": [
    "### подготовка датасета"
   ]
  },
  {
   "cell_type": "markdown",
   "metadata": {},
   "source": [
    "загрузка тренировочного датасета:"
   ]
  },
  {
   "cell_type": "code",
   "execution_count": 116,
   "metadata": {},
   "outputs": [],
   "source": [
    "from sklearn.datasets import load_files\n",
    "import numpy as np\n",
    "from sklearn.feature_extraction.text import CountVectorizer\n",
    "from sklearn.model_selection import GridSearchCV\n",
    "from sklearn.linear_model import LogisticRegression\n",
    "import matplotlib.pyplot as plt\n",
    "from xgboost import XGBClassifier\n",
    "import random\n",
    "from sklearn.ensemble import RandomForestClassifier"
   ]
  },
  {
   "cell_type": "code",
   "execution_count": 117,
   "metadata": {},
   "outputs": [],
   "source": [
    "reviews_train = load_files('input/aclimdb/train/')"
   ]
  },
  {
   "cell_type": "code",
   "execution_count": 118,
   "metadata": {},
   "outputs": [],
   "source": [
    "text_train, y_train = reviews_train.data, reviews_train.target"
   ]
  },
  {
   "cell_type": "markdown",
   "metadata": {},
   "source": [
    "из датасета можно выделить две сущности <s>в виде гномика</s> - сам текст отзыва и его оценка:"
   ]
  },
  {
   "cell_type": "code",
   "execution_count": 119,
   "metadata": {},
   "outputs": [
    {
     "data": {
      "text/plain": [
       "b\"Zero Day leads you to think, even re-think why two boys/young men would do what they did - commit mutual suicide via slaughtering their classmates. It captures what must be beyond a bizarre mode of being for two humans who have decided to withdraw from common civility in order to define their own/mutual world via coupled destruction.<br /><br />It is not a perfect movie but given what money/time the filmmaker and actors had - it is a remarkable product. In terms of explaining the motives and actions of the two young suicide/murderers it is better than 'Elephant' - in terms of being a film that gets under our 'rationalistic' skin it is a far, far better film than almost anything you are likely to see. <br /><br />Flawed but honest with a terrible honesty.\""
      ]
     },
     "execution_count": 119,
     "metadata": {},
     "output_type": "execute_result"
    }
   ],
   "source": [
    "text_train[0]"
   ]
  },
  {
   "cell_type": "markdown",
   "metadata": {},
   "source": [
    "оценка бинарная - негативный / положительный отзыв"
   ]
  },
  {
   "cell_type": "code",
   "execution_count": 120,
   "metadata": {},
   "outputs": [
    {
     "data": {
      "text/plain": [
       "array([0, 1])"
      ]
     },
     "execution_count": 120,
     "metadata": {},
     "output_type": "execute_result"
    }
   ],
   "source": [
    "np.unique (y_train)"
   ]
  },
  {
   "cell_type": "markdown",
   "metadata": {},
   "source": [
    "проверка количества документов и количества выборок в каждом классе train dataset:"
   ]
  },
  {
   "cell_type": "code",
   "execution_count": 121,
   "metadata": {},
   "outputs": [
    {
     "name": "stdout",
     "output_type": "stream",
     "text": [
      "кол-во документов в выборке: 25000\n"
     ]
    }
   ],
   "source": [
    "print(f'кол-во документов в выборке: {len(text_train)}')"
   ]
  },
  {
   "cell_type": "code",
   "execution_count": 122,
   "metadata": {},
   "outputs": [
    {
     "name": "stdout",
     "output_type": "stream",
     "text": [
      "кол-во выборок в каждом классе: [12500 12500]\n"
     ]
    }
   ],
   "source": [
    "print(f'кол-во выборок в каждом классе: {np.bincount(y_train)}') "
   ]
  },
  {
   "cell_type": "markdown",
   "metadata": {},
   "source": [
    "аналогичная обработка test dataset:"
   ]
  },
  {
   "cell_type": "code",
   "execution_count": 123,
   "metadata": {},
   "outputs": [],
   "source": [
    "reviews_test = load_files('input/aclimdb/test/')"
   ]
  },
  {
   "cell_type": "code",
   "execution_count": 124,
   "metadata": {},
   "outputs": [
    {
     "name": "stdout",
     "output_type": "stream",
     "text": [
      "кол-во документов в выборке: 25000\n",
      "кол-во выборок в каждом классе: [12500 12500]\n"
     ]
    }
   ],
   "source": [
    "text_test, y_test = reviews_test.data, reviews_test.target\n",
    "print(f'кол-во документов в выборке: {len(text_test)}')\n",
    "print(f'кол-во выборок в каждом классе: {np.bincount(y_test)}') "
   ]
  },
  {
   "cell_type": "markdown",
   "metadata": {},
   "source": [
    "Перевод текста в разряженную матрицу типа bag_of_words, при этом зададим параметры:\n",
    "\n",
    "min_df - минимальная частота повторения слова для определения как признака; слова, которые имеют частоту повторения в документе ниже, чем указанный порог, будут опускаться \n",
    "\n",
    "ngram_range - длина токена"
   ]
  },
  {
   "cell_type": "code",
   "execution_count": 125,
   "metadata": {},
   "outputs": [],
   "source": [
    "# инициализация конвертора\n",
    "vect = CountVectorizer(min_df=5, ngram_range=(2, 2))"
   ]
  },
  {
   "cell_type": "code",
   "execution_count": 126,
   "metadata": {},
   "outputs": [],
   "source": [
    "# конвертация текста в матрицу\n",
    "X_train = vect.fit(text_train).transform(text_train)\n",
    "X_test = vect.transform(text_test)"
   ]
  },
  {
   "cell_type": "code",
   "execution_count": 127,
   "metadata": {},
   "outputs": [
    {
     "name": "stdout",
     "output_type": "stream",
     "text": [
      "размер полученного словаря: 129549\n",
      "описание X_trian:\n",
      "<25000x129549 sparse matrix of type '<class 'numpy.int64'>'\n",
      "\twith 3607330 stored elements in Compressed Sparse Row format>\n",
      "описание X_test:\n",
      "<25000x129549 sparse matrix of type '<class 'numpy.int64'>'\n",
      "\twith 3392376 stored elements in Compressed Sparse Row format>\n"
     ]
    }
   ],
   "source": [
    "print(\"размер полученного словаря: {}\".format(len(vect.vocabulary_)))\n",
    "print(\"описание X_trian:\\n{}\".format(repr(X_train)))\n",
    "print(\"описание X_test:\\n{}\".format(repr(X_test)))"
   ]
  },
  {
   "cell_type": "markdown",
   "metadata": {},
   "source": [
    "в результате конвертации получаем перечень признаков, по которым будет проводиться обучение:"
   ]
  },
  {
   "cell_type": "code",
   "execution_count": 128,
   "metadata": {},
   "outputs": [
    {
     "name": "stdout",
     "output_type": "stream",
     "text": [
      "кол-во признаков: 129549\n"
     ]
    }
   ],
   "source": [
    "feature_names = vect.get_feature_names()\n",
    "print('кол-во признаков: {}'.format(len(feature_names)))"
   ]
  },
  {
   "cell_type": "markdown",
   "metadata": {},
   "source": [
    "### построение модели"
   ]
  },
  {
   "cell_type": "markdown",
   "metadata": {},
   "source": [
    "тюнинг модели через поиск по сетке"
   ]
  },
  {
   "cell_type": "code",
   "execution_count": 129,
   "metadata": {},
   "outputs": [
    {
     "name": "stderr",
     "output_type": "stream",
     "text": [
      "C:\\ProgramData\\Anaconda3\\lib\\site-packages\\sklearn\\linear_model\\logistic.py:433: FutureWarning: Default solver will be changed to 'lbfgs' in 0.22. Specify a solver to silence this warning.\n",
      "  FutureWarning)\n"
     ]
    },
    {
     "name": "stdout",
     "output_type": "stream",
     "text": [
      "лучший результат на кросс-валидации: 0.88\n",
      "наиболее оптимальные параметры:  {'C': 1}\n",
      "наиболее оптимальный коэффициент модели:  LogisticRegression(C=1, class_weight=None, dual=False, fit_intercept=True,\n",
      "          intercept_scaling=1, max_iter=100, multi_class='warn',\n",
      "          n_jobs=None, penalty='l2', random_state=None, solver='warn',\n",
      "          tol=0.0001, verbose=0, warm_start=False)\n"
     ]
    }
   ],
   "source": [
    "param_grid = {'C': [0.001, 0.01, 0.1, 1, 10]}\n",
    "grid = GridSearchCV(LogisticRegression(), param_grid, cv=5)\n",
    "grid.fit(X_train, y_train)\n",
    "\n",
    "print(\"лучший результат на кросс-валидации: {:.2f}\".format(grid.best_score_))\n",
    "print(\"наиболее оптимальные параметры: \", grid.best_params_)\n",
    "print(\"наиболее оптимальный коэффициент модели: \", grid.best_estimator_)"
   ]
  },
  {
   "cell_type": "markdown",
   "metadata": {},
   "source": [
    "### обучение и прогнозирование"
   ]
  },
  {
   "cell_type": "markdown",
   "metadata": {},
   "source": [
    "с учетом наиболее оптимальных параметров обучаем модели и запускамем прогноз для тестовой выборки:"
   ]
  },
  {
   "cell_type": "code",
   "execution_count": 130,
   "metadata": {},
   "outputs": [
    {
     "name": "stdout",
     "output_type": "stream",
     "text": [
      "точность предсказания: 0.88\n"
     ]
    }
   ],
   "source": [
    "lr = grid.best_estimator_\n",
    "lr.fit(X_train, y_train)\n",
    "lr.predict(X_test)\n",
    "print('точность предсказания: {:.2f}'.format(lr.score(X_test, y_test)))"
   ]
  },
  {
   "cell_type": "code",
   "execution_count": 131,
   "metadata": {},
   "outputs": [],
   "source": [
    "lr_predictions = lr.predict(X_test)"
   ]
  },
  {
   "cell_type": "markdown",
   "metadata": {},
   "source": [
    "в качестве примера отзыва - предсказания:"
   ]
  },
  {
   "cell_type": "code",
   "execution_count": 132,
   "metadata": {},
   "outputs": [
    {
     "name": "stdout",
     "output_type": "stream",
     "text": [
      "0 \n",
      " b'I\\'ve seen some terrible book-to-film adaptations in my day, but this one tops them all! The bizarrely unattractive cast detracts from the story, which is, in itself, untrue to the book. Mr. Tilney is nothing like handsome; as for Catherine Morland, a rat-like appearance makes this heroine a difficult one to sell to a sympathetic audience. Isabella is nothing like the Aphrodite one reads about in the original text, and James Morland appears in the film far too little to leave the viewer with any understanding of his important role in the story. Also, as others have pointed out before, this novel was intended to satirize the Gothic craze prevalent in Austen\\'s time, but it appears that this \"soft horror\" film was designed and meant to be taken seriously. I\\'m sure Jane Austen turns over in her grave each time one of her fans is disappointed by this awful interpretation of what was supposed to be a joke.' \n",
      "\n",
      "0 \n",
      " b'Seriously, I don\\xc2\\xb4t really get why people here are bashing it. I mean,<br /><br />the idea of a killer snowman wreaking havoc on a tropical island paradise is pretty absurd. The good news is, the producers realized it and made it a comedy in the vein of Army of Darkness. <br /><br />Especially in the second half of the film, when the little killer snowballs attack, I laughed my ass off. For example, the put one of the little creeps into a blender (a la Gremlins 1) and mix it. After that, it morphs back into a snowball and squeals with a high pitched voice \"That was fun!\".<br /><br />Bottom line - incredible movie, rent it.' \n",
      "\n",
      "1 \n",
      " b\"'This Is Not a Film' works because it is so true in what it is trying to say. If you ignore the dynamics of the plot and focus in on the message, you will see a little bit of yourself in the main character, Michael. Whether male or female, all of us have come to a point in our lives where we want to look back and reexamine a situation or a relationship. Did it really occur like we remembered? What went wrong? Michael's desire to find Grace is completely selfish. More than anything, he wants to make himself feel better about how things turned out. But even so, he is a sympathetic character because everyone is selfish when it comes to relationships. We would not be in them otherwise. As the film ends, I am not sure if Michael has learned anything new about himself or not. Our best gauge on the relationship is through his friend, Nadia. She is the soul of the movie and reminds us of how there are always two sides to every story. I found Michael to be pompous, arrogant, and just plain clueless. Which is exactly why I liked him. He is a real character. If you've ever wanted to go back and analyze a previous relationship, then this is a film for you. In closing, it is a film for everyone.\" \n",
      "\n",
      "1 \n",
      " b'Though for most of us, sexiness is a variable quality, I cannot recall a movie that did for me what this one does. It transported me into an awfully familiar realm of longing and desire. All the compulsive attraction, uncertainty over the outcome, the palpable fear and excitement so attendant to that state of arousal were brought to fever pitch by this flick. So French and what I consider daring! No matter what your orientation, I think that the danger of chasing your desire is brought full-front and center here...much more so, say, than with Kubrick\\'s \"Eyes Wide Shut\".' \n",
      "\n"
     ]
    }
   ],
   "source": [
    "tst = [random.randint(1, len(lr_predictions)) for i in range(4)]\n",
    "for i in tst:\n",
    "    print(lr_predictions[i],'\\n', text_test[i],'\\n')"
   ]
  },
  {
   "cell_type": "markdown",
   "metadata": {},
   "source": [
    "с первого взгляда оценки соответствуют классификации"
   ]
  },
  {
   "cell_type": "markdown",
   "metadata": {},
   "source": [
    "### применение xgboost"
   ]
  },
  {
   "cell_type": "markdown",
   "metadata": {},
   "source": [
    "сравнение лог регрессии и классификатором xgboost"
   ]
  },
  {
   "cell_type": "markdown",
   "metadata": {},
   "source": [
    "инициализирую, обучаю модель и запускаю прогноз"
   ]
  },
  {
   "cell_type": "code",
   "execution_count": 133,
   "metadata": {},
   "outputs": [
    {
     "name": "stdout",
     "output_type": "stream",
     "text": [
      "XGBClassifier(base_score=0.5, booster='gbtree', colsample_bylevel=1,\n",
      "       colsample_bytree=1, gamma=0, learning_rate=0.1, max_delta_step=0,\n",
      "       max_depth=3, min_child_weight=1, missing=None, n_estimators=100,\n",
      "       n_jobs=1, nthread=None, objective='binary:logistic', random_state=0,\n",
      "       reg_alpha=0, reg_lambda=1, scale_pos_weight=1, seed=None,\n",
      "       silent=True, subsample=1)\n",
      "точность предсказания: 0.76\n"
     ]
    }
   ],
   "source": [
    "xgb_model = XGBClassifier()\n",
    "xgb_model.fit(X_train, y_train)\n",
    "print(model)\n",
    "xgb_predictions = xgb_model.predict(X_test)\n",
    "print('точность предсказания: {:.2f}'.format(xgb_model.score(X_test, y_test)))"
   ]
  },
  {
   "cell_type": "code",
   "execution_count": 134,
   "metadata": {
    "scrolled": true
   },
   "outputs": [
    {
     "name": "stdout",
     "output_type": "stream",
     "text": [
      "точность предсказания: 0.76\n"
     ]
    }
   ],
   "source": [
    "print('точность предсказания: {:.2f}'.format(xgb_model.score(X_test, y_test)))"
   ]
  },
  {
   "cell_type": "markdown",
   "metadata": {},
   "source": [
    "странно, но лог регрессия показала себя лучше xgboost"
   ]
  },
  {
   "cell_type": "markdown",
   "metadata": {},
   "source": [
    "### применение RandomForestClassifier"
   ]
  },
  {
   "cell_type": "markdown",
   "metadata": {},
   "source": [
    "сравнение лог регрессии и RandomForestClassifier"
   ]
  },
  {
   "cell_type": "code",
   "execution_count": 135,
   "metadata": {},
   "outputs": [
    {
     "name": "stderr",
     "output_type": "stream",
     "text": [
      "C:\\ProgramData\\Anaconda3\\lib\\site-packages\\sklearn\\ensemble\\forest.py:246: FutureWarning: The default value of n_estimators will change from 10 in version 0.20 to 100 in 0.22.\n",
      "  \"10 in version 0.20 to 100 in 0.22.\", FutureWarning)\n"
     ]
    },
    {
     "name": "stdout",
     "output_type": "stream",
     "text": [
      "XGBClassifier(base_score=0.5, booster='gbtree', colsample_bylevel=1,\n",
      "       colsample_bytree=1, gamma=0, learning_rate=0.1, max_delta_step=0,\n",
      "       max_depth=3, min_child_weight=1, missing=None, n_estimators=100,\n",
      "       n_jobs=1, nthread=None, objective='binary:logistic', random_state=0,\n",
      "       reg_alpha=0, reg_lambda=1, scale_pos_weight=1, seed=None,\n",
      "       silent=True, subsample=1)\n",
      "точность предсказания: 0.75\n"
     ]
    }
   ],
   "source": [
    "rfc_model = RandomForestClassifier()\n",
    "rfc_model.fit(X_train, y_train)\n",
    "print(model)\n",
    "rfc_predictions = rfc_model.predict(X_test)\n",
    "print('точность предсказания: {:.2f}'.format(rfc_model.score(X_test, y_test)))"
   ]
  },
  {
   "cell_type": "markdown",
   "metadata": {},
   "source": [
    "точность также оказалась ниже точности по логрегресии"
   ]
  },
  {
   "cell_type": "markdown",
   "metadata": {},
   "source": [
    "определенно, по направлению прогнозирования класса текстовых отзывов можно было почистить признаки, и посмотреть, что получится. поэтому как следующей шаг я возьму эту задачу."
   ]
  }
 ],
 "metadata": {
  "kernelspec": {
   "display_name": "Python 3",
   "language": "python",
   "name": "python3"
  },
  "language_info": {
   "codemirror_mode": {
    "name": "ipython",
    "version": 3
   },
   "file_extension": ".py",
   "mimetype": "text/x-python",
   "name": "python",
   "nbconvert_exporter": "python",
   "pygments_lexer": "ipython3",
   "version": "3.7.3"
  }
 },
 "nbformat": 4,
 "nbformat_minor": 2
}
